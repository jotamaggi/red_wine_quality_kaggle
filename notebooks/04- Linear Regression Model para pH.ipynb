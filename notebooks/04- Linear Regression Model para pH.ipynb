{
 "cells": [
  {
   "cell_type": "code",
   "execution_count": 1,
   "metadata": {},
   "outputs": [],
   "source": [
    "import pandas as pd\n",
    "import numpy as np\n",
    "import matplotlib.pyplot as plt \n",
    "import seaborn as sns\n",
    "%matplotlib inline"
   ]
  },
  {
   "cell_type": "code",
   "execution_count": 2,
   "metadata": {},
   "outputs": [],
   "source": [
    "df = pd.read_csv('../data/interim/red_wine_quality_outliers.csv')"
   ]
  },
  {
   "cell_type": "code",
   "execution_count": 3,
   "metadata": {},
   "outputs": [
    {
     "data": {
      "text/plain": [
       "Index(['Unnamed: 0', 'fixed acidity', 'volatile acidity', 'citric acid',\n",
       "       'residual sugar', 'chlorides', 'free sulfur dioxide',\n",
       "       'total sulfur dioxide', 'density', 'pH', 'sulphates', 'alcohol',\n",
       "       'quality'],\n",
       "      dtype='object')"
      ]
     },
     "execution_count": 3,
     "metadata": {},
     "output_type": "execute_result"
    }
   ],
   "source": [
    "df.columns"
   ]
  },
  {
   "cell_type": "code",
   "execution_count": 4,
   "metadata": {},
   "outputs": [],
   "source": [
    "df.drop(columns='Unnamed: 0', inplace=True)"
   ]
  },
  {
   "cell_type": "code",
   "execution_count": 5,
   "metadata": {},
   "outputs": [
    {
     "data": {
      "text/plain": [
       "Index(['fixed acidity', 'volatile acidity', 'citric acid', 'residual sugar',\n",
       "       'chlorides', 'free sulfur dioxide', 'total sulfur dioxide', 'density',\n",
       "       'pH', 'sulphates', 'alcohol', 'quality'],\n",
       "      dtype='object')"
      ]
     },
     "execution_count": 5,
     "metadata": {},
     "output_type": "execute_result"
    }
   ],
   "source": [
    "df.columns"
   ]
  },
  {
   "cell_type": "code",
   "execution_count": 6,
   "metadata": {},
   "outputs": [
    {
     "name": "stdout",
     "output_type": "stream",
     "text": [
      "<class 'pandas.core.frame.DataFrame'>\n",
      "RangeIndex: 1451 entries, 0 to 1450\n",
      "Data columns (total 12 columns):\n",
      "fixed acidity           1451 non-null float64\n",
      "volatile acidity        1451 non-null float64\n",
      "citric acid             1451 non-null float64\n",
      "residual sugar          1451 non-null float64\n",
      "chlorides               1451 non-null float64\n",
      "free sulfur dioxide     1451 non-null float64\n",
      "total sulfur dioxide    1451 non-null float64\n",
      "density                 1451 non-null float64\n",
      "pH                      1451 non-null float64\n",
      "sulphates               1451 non-null float64\n",
      "alcohol                 1451 non-null float64\n",
      "quality                 1451 non-null int64\n",
      "dtypes: float64(11), int64(1)\n",
      "memory usage: 136.1 KB\n"
     ]
    }
   ],
   "source": [
    "df.info()"
   ]
  },
  {
   "cell_type": "code",
   "execution_count": 7,
   "metadata": {},
   "outputs": [
    {
     "data": {
      "text/html": [
       "<div>\n",
       "<style scoped>\n",
       "    .dataframe tbody tr th:only-of-type {\n",
       "        vertical-align: middle;\n",
       "    }\n",
       "\n",
       "    .dataframe tbody tr th {\n",
       "        vertical-align: top;\n",
       "    }\n",
       "\n",
       "    .dataframe thead th {\n",
       "        text-align: right;\n",
       "    }\n",
       "</style>\n",
       "<table border=\"1\" class=\"dataframe\">\n",
       "  <thead>\n",
       "    <tr style=\"text-align: right;\">\n",
       "      <th></th>\n",
       "      <th>fixed acidity</th>\n",
       "      <th>volatile acidity</th>\n",
       "      <th>citric acid</th>\n",
       "      <th>residual sugar</th>\n",
       "      <th>chlorides</th>\n",
       "      <th>free sulfur dioxide</th>\n",
       "      <th>total sulfur dioxide</th>\n",
       "      <th>density</th>\n",
       "      <th>pH</th>\n",
       "      <th>sulphates</th>\n",
       "      <th>alcohol</th>\n",
       "      <th>quality</th>\n",
       "    </tr>\n",
       "  </thead>\n",
       "  <tbody>\n",
       "    <tr>\n",
       "      <th>fixed acidity</th>\n",
       "      <td>1.000000</td>\n",
       "      <td>-0.297150</td>\n",
       "      <td>0.698363</td>\n",
       "      <td>0.180293</td>\n",
       "      <td>0.183549</td>\n",
       "      <td>-0.148815</td>\n",
       "      <td>-0.099928</td>\n",
       "      <td>0.659927</td>\n",
       "      <td>-0.705572</td>\n",
       "      <td>0.200371</td>\n",
       "      <td>-0.015114</td>\n",
       "      <td>0.145163</td>\n",
       "    </tr>\n",
       "    <tr>\n",
       "      <th>volatile acidity</th>\n",
       "      <td>-0.297150</td>\n",
       "      <td>1.000000</td>\n",
       "      <td>-0.589452</td>\n",
       "      <td>0.025977</td>\n",
       "      <td>0.072709</td>\n",
       "      <td>0.013943</td>\n",
       "      <td>0.110338</td>\n",
       "      <td>-0.004957</td>\n",
       "      <td>0.251343</td>\n",
       "      <td>-0.348126</td>\n",
       "      <td>-0.213213</td>\n",
       "      <td>-0.353443</td>\n",
       "    </tr>\n",
       "    <tr>\n",
       "      <th>citric acid</th>\n",
       "      <td>0.698363</td>\n",
       "      <td>-0.589452</td>\n",
       "      <td>1.000000</td>\n",
       "      <td>0.184960</td>\n",
       "      <td>0.100361</td>\n",
       "      <td>-0.074441</td>\n",
       "      <td>0.005301</td>\n",
       "      <td>0.371729</td>\n",
       "      <td>-0.520311</td>\n",
       "      <td>0.302815</td>\n",
       "      <td>0.168766</td>\n",
       "      <td>0.243999</td>\n",
       "    </tr>\n",
       "    <tr>\n",
       "      <th>residual sugar</th>\n",
       "      <td>0.180293</td>\n",
       "      <td>0.025977</td>\n",
       "      <td>0.184960</td>\n",
       "      <td>1.000000</td>\n",
       "      <td>0.126735</td>\n",
       "      <td>-0.000844</td>\n",
       "      <td>0.095093</td>\n",
       "      <td>0.344801</td>\n",
       "      <td>-0.075140</td>\n",
       "      <td>0.076129</td>\n",
       "      <td>0.162533</td>\n",
       "      <td>0.061482</td>\n",
       "    </tr>\n",
       "    <tr>\n",
       "      <th>chlorides</th>\n",
       "      <td>0.183549</td>\n",
       "      <td>0.072709</td>\n",
       "      <td>0.100361</td>\n",
       "      <td>0.126735</td>\n",
       "      <td>1.000000</td>\n",
       "      <td>-0.058163</td>\n",
       "      <td>0.045025</td>\n",
       "      <td>0.328695</td>\n",
       "      <td>-0.182841</td>\n",
       "      <td>0.022107</td>\n",
       "      <td>-0.205414</td>\n",
       "      <td>-0.108787</td>\n",
       "    </tr>\n",
       "    <tr>\n",
       "      <th>free sulfur dioxide</th>\n",
       "      <td>-0.148815</td>\n",
       "      <td>0.013943</td>\n",
       "      <td>-0.074441</td>\n",
       "      <td>-0.000844</td>\n",
       "      <td>-0.058163</td>\n",
       "      <td>1.000000</td>\n",
       "      <td>0.660188</td>\n",
       "      <td>-0.037630</td>\n",
       "      <td>0.108831</td>\n",
       "      <td>0.055956</td>\n",
       "      <td>-0.077993</td>\n",
       "      <td>-0.071202</td>\n",
       "    </tr>\n",
       "    <tr>\n",
       "      <th>total sulfur dioxide</th>\n",
       "      <td>-0.099928</td>\n",
       "      <td>0.110338</td>\n",
       "      <td>0.005301</td>\n",
       "      <td>0.095093</td>\n",
       "      <td>0.045025</td>\n",
       "      <td>0.660188</td>\n",
       "      <td>1.000000</td>\n",
       "      <td>0.118965</td>\n",
       "      <td>-0.005940</td>\n",
       "      <td>-0.039024</td>\n",
       "      <td>-0.259952</td>\n",
       "      <td>-0.237745</td>\n",
       "    </tr>\n",
       "    <tr>\n",
       "      <th>density</th>\n",
       "      <td>0.659927</td>\n",
       "      <td>-0.004957</td>\n",
       "      <td>0.371729</td>\n",
       "      <td>0.344801</td>\n",
       "      <td>0.328695</td>\n",
       "      <td>-0.037630</td>\n",
       "      <td>0.118965</td>\n",
       "      <td>1.000000</td>\n",
       "      <td>-0.312310</td>\n",
       "      <td>0.129896</td>\n",
       "      <td>-0.468312</td>\n",
       "      <td>-0.167568</td>\n",
       "    </tr>\n",
       "    <tr>\n",
       "      <th>pH</th>\n",
       "      <td>-0.705572</td>\n",
       "      <td>0.251343</td>\n",
       "      <td>-0.520311</td>\n",
       "      <td>-0.075140</td>\n",
       "      <td>-0.182841</td>\n",
       "      <td>0.108831</td>\n",
       "      <td>-0.005940</td>\n",
       "      <td>-0.312310</td>\n",
       "      <td>1.000000</td>\n",
       "      <td>-0.039082</td>\n",
       "      <td>0.135624</td>\n",
       "      <td>-0.082164</td>\n",
       "    </tr>\n",
       "    <tr>\n",
       "      <th>sulphates</th>\n",
       "      <td>0.200371</td>\n",
       "      <td>-0.348126</td>\n",
       "      <td>0.302815</td>\n",
       "      <td>0.076129</td>\n",
       "      <td>0.022107</td>\n",
       "      <td>0.055956</td>\n",
       "      <td>-0.039024</td>\n",
       "      <td>0.129896</td>\n",
       "      <td>-0.039082</td>\n",
       "      <td>1.000000</td>\n",
       "      <td>0.241636</td>\n",
       "      <td>0.386567</td>\n",
       "    </tr>\n",
       "    <tr>\n",
       "      <th>alcohol</th>\n",
       "      <td>-0.015114</td>\n",
       "      <td>-0.213213</td>\n",
       "      <td>0.168766</td>\n",
       "      <td>0.162533</td>\n",
       "      <td>-0.205414</td>\n",
       "      <td>-0.077993</td>\n",
       "      <td>-0.259952</td>\n",
       "      <td>-0.468312</td>\n",
       "      <td>0.135624</td>\n",
       "      <td>0.241636</td>\n",
       "      <td>1.000000</td>\n",
       "      <td>0.501501</td>\n",
       "    </tr>\n",
       "    <tr>\n",
       "      <th>quality</th>\n",
       "      <td>0.145163</td>\n",
       "      <td>-0.353443</td>\n",
       "      <td>0.243999</td>\n",
       "      <td>0.061482</td>\n",
       "      <td>-0.108787</td>\n",
       "      <td>-0.071202</td>\n",
       "      <td>-0.237745</td>\n",
       "      <td>-0.167568</td>\n",
       "      <td>-0.082164</td>\n",
       "      <td>0.386567</td>\n",
       "      <td>0.501501</td>\n",
       "      <td>1.000000</td>\n",
       "    </tr>\n",
       "  </tbody>\n",
       "</table>\n",
       "</div>"
      ],
      "text/plain": [
       "                      fixed acidity  volatile acidity  citric acid  \\\n",
       "fixed acidity              1.000000         -0.297150     0.698363   \n",
       "volatile acidity          -0.297150          1.000000    -0.589452   \n",
       "citric acid                0.698363         -0.589452     1.000000   \n",
       "residual sugar             0.180293          0.025977     0.184960   \n",
       "chlorides                  0.183549          0.072709     0.100361   \n",
       "free sulfur dioxide       -0.148815          0.013943    -0.074441   \n",
       "total sulfur dioxide      -0.099928          0.110338     0.005301   \n",
       "density                    0.659927         -0.004957     0.371729   \n",
       "pH                        -0.705572          0.251343    -0.520311   \n",
       "sulphates                  0.200371         -0.348126     0.302815   \n",
       "alcohol                   -0.015114         -0.213213     0.168766   \n",
       "quality                    0.145163         -0.353443     0.243999   \n",
       "\n",
       "                      residual sugar  chlorides  free sulfur dioxide  \\\n",
       "fixed acidity               0.180293   0.183549            -0.148815   \n",
       "volatile acidity            0.025977   0.072709             0.013943   \n",
       "citric acid                 0.184960   0.100361            -0.074441   \n",
       "residual sugar              1.000000   0.126735            -0.000844   \n",
       "chlorides                   0.126735   1.000000            -0.058163   \n",
       "free sulfur dioxide        -0.000844  -0.058163             1.000000   \n",
       "total sulfur dioxide        0.095093   0.045025             0.660188   \n",
       "density                     0.344801   0.328695            -0.037630   \n",
       "pH                         -0.075140  -0.182841             0.108831   \n",
       "sulphates                   0.076129   0.022107             0.055956   \n",
       "alcohol                     0.162533  -0.205414            -0.077993   \n",
       "quality                     0.061482  -0.108787            -0.071202   \n",
       "\n",
       "                      total sulfur dioxide   density        pH  sulphates  \\\n",
       "fixed acidity                    -0.099928  0.659927 -0.705572   0.200371   \n",
       "volatile acidity                  0.110338 -0.004957  0.251343  -0.348126   \n",
       "citric acid                       0.005301  0.371729 -0.520311   0.302815   \n",
       "residual sugar                    0.095093  0.344801 -0.075140   0.076129   \n",
       "chlorides                         0.045025  0.328695 -0.182841   0.022107   \n",
       "free sulfur dioxide               0.660188 -0.037630  0.108831   0.055956   \n",
       "total sulfur dioxide              1.000000  0.118965 -0.005940  -0.039024   \n",
       "density                           0.118965  1.000000 -0.312310   0.129896   \n",
       "pH                               -0.005940 -0.312310  1.000000  -0.039082   \n",
       "sulphates                        -0.039024  0.129896 -0.039082   1.000000   \n",
       "alcohol                          -0.259952 -0.468312  0.135624   0.241636   \n",
       "quality                          -0.237745 -0.167568 -0.082164   0.386567   \n",
       "\n",
       "                       alcohol   quality  \n",
       "fixed acidity        -0.015114  0.145163  \n",
       "volatile acidity     -0.213213 -0.353443  \n",
       "citric acid           0.168766  0.243999  \n",
       "residual sugar        0.162533  0.061482  \n",
       "chlorides            -0.205414 -0.108787  \n",
       "free sulfur dioxide  -0.077993 -0.071202  \n",
       "total sulfur dioxide -0.259952 -0.237745  \n",
       "density              -0.468312 -0.167568  \n",
       "pH                    0.135624 -0.082164  \n",
       "sulphates             0.241636  0.386567  \n",
       "alcohol               1.000000  0.501501  \n",
       "quality               0.501501  1.000000  "
      ]
     },
     "execution_count": 7,
     "metadata": {},
     "output_type": "execute_result"
    }
   ],
   "source": [
    "df.corr()"
   ]
  },
  {
   "cell_type": "code",
   "execution_count": 8,
   "metadata": {},
   "outputs": [
    {
     "data": {
      "text/plain": [
       "<matplotlib.axes._subplots.AxesSubplot at 0x219f3757908>"
      ]
     },
     "execution_count": 8,
     "metadata": {},
     "output_type": "execute_result"
    },
    {
     "data": {
      "image/png": "[encoded data removed]",
      "text/plain": [
       "<Figure size 842.4x595.44 with 2 Axes>"
      ]
     },
     "metadata": {
      "needs_background": "light"
     },
     "output_type": "display_data"
    }
   ],
   "source": [
    "a4_dims = (11.7, 8.27)\n",
    "fig, ax = plt.subplots(figsize=a4_dims)\n",
    "sns.heatmap(df.corr(), annot = True)"
   ]
  },
  {
   "cell_type": "code",
   "execution_count": 9,
   "metadata": {},
   "outputs": [
    {
     "data": {
      "text/plain": [
       "Index(['fixed acidity', 'volatile acidity', 'citric acid', 'residual sugar',\n",
       "       'chlorides', 'free sulfur dioxide', 'total sulfur dioxide', 'density',\n",
       "       'pH', 'sulphates', 'alcohol', 'quality'],\n",
       "      dtype='object')"
      ]
     },
     "execution_count": 9,
     "metadata": {},
     "output_type": "execute_result"
    }
   ],
   "source": [
    "df.columns"
   ]
  },
  {
   "cell_type": "code",
   "execution_count": 10,
   "metadata": {},
   "outputs": [
    {
     "data": {
      "text/html": [
       "<div>\n",
       "<style scoped>\n",
       "    .dataframe tbody tr th:only-of-type {\n",
       "        vertical-align: middle;\n",
       "    }\n",
       "\n",
       "    .dataframe tbody tr th {\n",
       "        vertical-align: top;\n",
       "    }\n",
       "\n",
       "    .dataframe thead th {\n",
       "        text-align: right;\n",
       "    }\n",
       "</style>\n",
       "<table border=\"1\" class=\"dataframe\">\n",
       "  <thead>\n",
       "    <tr style=\"text-align: right;\">\n",
       "      <th></th>\n",
       "      <th>fixed acidity</th>\n",
       "      <th>volatile acidity</th>\n",
       "      <th>citric acid</th>\n",
       "      <th>residual sugar</th>\n",
       "      <th>chlorides</th>\n",
       "      <th>free sulfur dioxide</th>\n",
       "      <th>total sulfur dioxide</th>\n",
       "      <th>density</th>\n",
       "      <th>sulphates</th>\n",
       "      <th>alcohol</th>\n",
       "      <th>quality</th>\n",
       "    </tr>\n",
       "  </thead>\n",
       "  <tbody>\n",
       "    <tr>\n",
       "      <th>0</th>\n",
       "      <td>7.4</td>\n",
       "      <td>0.70</td>\n",
       "      <td>0.00</td>\n",
       "      <td>1.9</td>\n",
       "      <td>0.076</td>\n",
       "      <td>11.0</td>\n",
       "      <td>34.0</td>\n",
       "      <td>0.9978</td>\n",
       "      <td>0.56</td>\n",
       "      <td>9.4</td>\n",
       "      <td>5</td>\n",
       "    </tr>\n",
       "    <tr>\n",
       "      <th>1</th>\n",
       "      <td>7.8</td>\n",
       "      <td>0.88</td>\n",
       "      <td>0.00</td>\n",
       "      <td>2.6</td>\n",
       "      <td>0.098</td>\n",
       "      <td>25.0</td>\n",
       "      <td>67.0</td>\n",
       "      <td>0.9968</td>\n",
       "      <td>0.68</td>\n",
       "      <td>9.8</td>\n",
       "      <td>5</td>\n",
       "    </tr>\n",
       "    <tr>\n",
       "      <th>2</th>\n",
       "      <td>7.8</td>\n",
       "      <td>0.76</td>\n",
       "      <td>0.04</td>\n",
       "      <td>2.3</td>\n",
       "      <td>0.092</td>\n",
       "      <td>15.0</td>\n",
       "      <td>54.0</td>\n",
       "      <td>0.9970</td>\n",
       "      <td>0.65</td>\n",
       "      <td>9.8</td>\n",
       "      <td>5</td>\n",
       "    </tr>\n",
       "    <tr>\n",
       "      <th>3</th>\n",
       "      <td>11.2</td>\n",
       "      <td>0.28</td>\n",
       "      <td>0.56</td>\n",
       "      <td>1.9</td>\n",
       "      <td>0.075</td>\n",
       "      <td>17.0</td>\n",
       "      <td>60.0</td>\n",
       "      <td>0.9980</td>\n",
       "      <td>0.58</td>\n",
       "      <td>9.8</td>\n",
       "      <td>6</td>\n",
       "    </tr>\n",
       "    <tr>\n",
       "      <th>4</th>\n",
       "      <td>7.4</td>\n",
       "      <td>0.70</td>\n",
       "      <td>0.00</td>\n",
       "      <td>1.9</td>\n",
       "      <td>0.076</td>\n",
       "      <td>11.0</td>\n",
       "      <td>34.0</td>\n",
       "      <td>0.9978</td>\n",
       "      <td>0.56</td>\n",
       "      <td>9.4</td>\n",
       "      <td>5</td>\n",
       "    </tr>\n",
       "  </tbody>\n",
       "</table>\n",
       "</div>"
      ],
      "text/plain": [
       "   fixed acidity  volatile acidity  citric acid  residual sugar  chlorides  \\\n",
       "0            7.4              0.70         0.00             1.9      0.076   \n",
       "1            7.8              0.88         0.00             2.6      0.098   \n",
       "2            7.8              0.76         0.04             2.3      0.092   \n",
       "3           11.2              0.28         0.56             1.9      0.075   \n",
       "4            7.4              0.70         0.00             1.9      0.076   \n",
       "\n",
       "   free sulfur dioxide  total sulfur dioxide  density  sulphates  alcohol  \\\n",
       "0                 11.0                  34.0   0.9978       0.56      9.4   \n",
       "1                 25.0                  67.0   0.9968       0.68      9.8   \n",
       "2                 15.0                  54.0   0.9970       0.65      9.8   \n",
       "3                 17.0                  60.0   0.9980       0.58      9.8   \n",
       "4                 11.0                  34.0   0.9978       0.56      9.4   \n",
       "\n",
       "   quality  \n",
       "0        5  \n",
       "1        5  \n",
       "2        5  \n",
       "3        6  \n",
       "4        5  "
      ]
     },
     "execution_count": 10,
     "metadata": {},
     "output_type": "execute_result"
    }
   ],
   "source": [
    "X = df[['fixed acidity', 'volatile acidity', 'citric acid', 'residual sugar',\n",
    "       'chlorides', 'free sulfur dioxide', 'total sulfur dioxide', 'density',\n",
    "       'sulphates', 'alcohol', 'quality']]\n",
    "X.head()"
   ]
  },
  {
   "cell_type": "code",
   "execution_count": 11,
   "metadata": {},
   "outputs": [
    {
     "data": {
      "text/plain": [
       "0    3.51\n",
       "1    3.20\n",
       "2    3.26\n",
       "3    3.16\n",
       "4    3.51\n",
       "Name: pH, dtype: float64"
      ]
     },
     "execution_count": 11,
     "metadata": {},
     "output_type": "execute_result"
    }
   ],
   "source": [
    "y = df['pH']\n",
    "y.head()"
   ]
  },
  {
   "cell_type": "code",
   "execution_count": 12,
   "metadata": {},
   "outputs": [],
   "source": [
    "from sklearn.model_selection import train_test_split"
   ]
  },
  {
   "cell_type": "code",
   "execution_count": 13,
   "metadata": {},
   "outputs": [],
   "source": [
    "X_train, X_test, y_train, y_test = train_test_split(X, y, test_size=0.4, random_state=101)"
   ]
  },
  {
   "cell_type": "code",
   "execution_count": 43,
   "metadata": {},
   "outputs": [],
   "source": [
    "from sklearn.linear_model import LinearRegression, Lasso"
   ]
  },
  {
   "cell_type": "code",
   "execution_count": 15,
   "metadata": {},
   "outputs": [],
   "source": [
    "model = lm.fit(X_train, y_train)"
   ]
  },
  {
   "cell_type": "code",
   "execution_count": 16,
   "metadata": {},
   "outputs": [
    {
     "name": "stdout",
     "output_type": "stream",
     "text": [
      "-61.01615880751245\n"
     ]
    },
    {
     "data": {
      "text/html": [
       "<div>\n",
       "<style scoped>\n",
       "    .dataframe tbody tr th:only-of-type {\n",
       "        vertical-align: middle;\n",
       "    }\n",
       "\n",
       "    .dataframe tbody tr th {\n",
       "        vertical-align: top;\n",
       "    }\n",
       "\n",
       "    .dataframe thead th {\n",
       "        text-align: right;\n",
       "    }\n",
       "</style>\n",
       "<table border=\"1\" class=\"dataframe\">\n",
       "  <thead>\n",
       "    <tr style=\"text-align: right;\">\n",
       "      <th></th>\n",
       "      <th>Coefficient</th>\n",
       "    </tr>\n",
       "  </thead>\n",
       "  <tbody>\n",
       "    <tr>\n",
       "      <th>fixed acidity</th>\n",
       "      <td>-0.094522</td>\n",
       "    </tr>\n",
       "    <tr>\n",
       "      <th>volatile acidity</th>\n",
       "      <td>-0.016554</td>\n",
       "    </tr>\n",
       "    <tr>\n",
       "      <th>citric acid</th>\n",
       "      <td>-0.073068</td>\n",
       "    </tr>\n",
       "    <tr>\n",
       "      <th>residual sugar</th>\n",
       "      <td>-0.028903</td>\n",
       "    </tr>\n",
       "    <tr>\n",
       "      <th>chlorides</th>\n",
       "      <td>-0.609955</td>\n",
       "    </tr>\n",
       "    <tr>\n",
       "      <th>free sulfur dioxide</th>\n",
       "      <td>0.001003</td>\n",
       "    </tr>\n",
       "    <tr>\n",
       "      <th>total sulfur dioxide</th>\n",
       "      <td>-0.000646</td>\n",
       "    </tr>\n",
       "    <tr>\n",
       "      <th>density</th>\n",
       "      <td>64.770347</td>\n",
       "    </tr>\n",
       "    <tr>\n",
       "      <th>sulphates</th>\n",
       "      <td>0.019107</td>\n",
       "    </tr>\n",
       "    <tr>\n",
       "      <th>alcohol</th>\n",
       "      <td>0.071781</td>\n",
       "    </tr>\n",
       "    <tr>\n",
       "      <th>quality</th>\n",
       "      <td>-0.007219</td>\n",
       "    </tr>\n",
       "  </tbody>\n",
       "</table>\n",
       "</div>"
      ],
      "text/plain": [
       "                      Coefficient\n",
       "fixed acidity           -0.094522\n",
       "volatile acidity        -0.016554\n",
       "citric acid             -0.073068\n",
       "residual sugar          -0.028903\n",
       "chlorides               -0.609955\n",
       "free sulfur dioxide      0.001003\n",
       "total sulfur dioxide    -0.000646\n",
       "density                 64.770347\n",
       "sulphates                0.019107\n",
       "alcohol                  0.071781\n",
       "quality                 -0.007219"
      ]
     },
     "execution_count": 16,
     "metadata": {},
     "output_type": "execute_result"
    }
   ],
   "source": [
    "print(lm.intercept_)\n",
    "coeff_df = pd.DataFrame(lm.coef_, X.columns, columns=['Coefficient'])\n",
    "coeff_df"
   ]
  },
  {
   "cell_type": "code",
   "execution_count": 17,
   "metadata": {},
   "outputs": [],
   "source": [
    "prediccion= lm.predict(X_test)"
   ]
  },
  {
   "cell_type": "code",
   "execution_count": 18,
   "metadata": {},
   "outputs": [
    {
     "data": {
      "text/plain": [
       "<matplotlib.collections.PathCollection at 0x219f54bee48>"
      ]
     },
     "execution_count": 18,
     "metadata": {},
     "output_type": "execute_result"
    },
    {
     "data": {
      "image/png": "[encoded data removed]",
      "text/plain": [
       "<Figure size 432x288 with 1 Axes>"
      ]
     },
     "metadata": {
      "needs_background": "light"
     },
     "output_type": "display_data"
    }
   ],
   "source": [
    "plt.scatter(y_test, prediccion, edgecolor='black')"
   ]
  },
  {
   "cell_type": "code",
   "execution_count": 19,
   "metadata": {},
   "outputs": [
    {
     "name": "stderr",
     "output_type": "stream",
     "text": [
      "C:\\ProgramData\\Anaconda3\\lib\\site-packages\\scipy\\stats\\stats.py:1713: FutureWarning: Using a non-tuple sequence for multidimensional indexing is deprecated; use `arr[tuple(seq)]` instead of `arr[seq]`. In the future this will be interpreted as an array index, `arr[np.array(seq)]`, which will result either in an error or a different result.\n",
      "  return np.add.reduce(sorted[indexer] * weights, axis=axis) / sumval\n"
     ]
    },
    {
     "data": {
      "text/plain": [
       "<matplotlib.axes._subplots.AxesSubplot at 0x219f57ec0f0>"
      ]
     },
     "execution_count": 19,
     "metadata": {},
     "output_type": "execute_result"
    },
    {
     "data": {
      "image/png": "[encoded data removed]",
      "text/plain": [
       "<Figure size 432x288 with 1 Axes>"
      ]
     },
     "metadata": {
      "needs_background": "light"
     },
     "output_type": "display_data"
    }
   ],
   "source": [
    "sns.distplot((y_test - prediccion), bins = 50, hist_kws=dict(edgecolor=\"black\", linewidth=1),color='Blue')"
   ]
  },
  {
   "cell_type": "code",
   "execution_count": 20,
   "metadata": {},
   "outputs": [],
   "source": [
    "from sklearn import metrics"
   ]
  },
  {
   "cell_type": "code",
   "execution_count": 21,
   "metadata": {},
   "outputs": [
    {
     "name": "stdout",
     "output_type": "stream",
     "text": [
      "MAE (Error absoluto medio): 0.06204743063975682\n",
      "MSE (Error cuadrático medio): 0.006239846290373711\n",
      "RMSE (raiz cuadrada del Error cuadrático medio: 0.07899269770284915\n"
     ]
    }
   ],
   "source": [
    "print('MAE (Error absoluto medio):', metrics.mean_absolute_error(y_test, prediccion))\n",
    "print('MSE (Error cuadrático medio):', metrics.mean_squared_error(y_test, prediccion))\n",
    "print('RMSE (raiz cuadrada del Error cuadrático medio:', np.sqrt(metrics.mean_squared_error(y_test, prediccion)))"
   ]
  },
  {
   "cell_type": "code",
   "execution_count": 22,
   "metadata": {},
   "outputs": [
    {
     "name": "stdout",
     "output_type": "stream",
     "text": [
      "r2: 0.6996986528943105\n"
     ]
    }
   ],
   "source": [
    "r2 = lm.score(X_train, y_train)\n",
    "print('r2:', r2)"
   ]
  },
  {
   "cell_type": "code",
   "execution_count": 23,
   "metadata": {},
   "outputs": [
    {
     "name": "stdout",
     "output_type": "stream",
     "text": [
      "Score: 0.6672921807945844\n"
     ]
    }
   ],
   "source": [
    "print (\"Score:\", model.score(X_test, y_test))"
   ]
  }
 ],
 "metadata": {
  "kernelspec": {
   "display_name": "Python 3",
   "language": "python",
   "name": "python3"
  },
  "language_info": {
   "codemirror_mode": {
    "name": "ipython",
    "version": 3
   },
   "file_extension": ".py",
   "mimetype": "text/x-python",
   "name": "python",
   "nbconvert_exporter": "python",
   "pygments_lexer": "ipython3",
   "version": "3.7.1"
  }
 },
 "nbformat": 4,
 "nbformat_minor": 2
}
